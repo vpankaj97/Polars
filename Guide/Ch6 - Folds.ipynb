{
 "cells": [
  {
   "cell_type": "code",
   "execution_count": 1,
   "metadata": {},
   "outputs": [],
   "source": [
    "%run \"Ch0 - setup.ipynb\""
   ]
  },
  {
   "cell_type": "markdown",
   "metadata": {},
   "source": [
    "Polars provides expressions/methods for horizontal aggregations like sum, min, mean, etc. by setting the argument axis=1. However, when you need a more complex aggregation the default methods provided by the Polars library may not be sufficient. That's when folds come in handy.\n",
    "\n",
    "The Polars fold expression operates on columns for maximum speed. It utilizes the data layout very efficiently and often has vectorized execution.\n",
    "\n",
    "Let's start with an example by implementing the sum operation ourselves, with a fold."
   ]
  },
  {
   "cell_type": "code",
   "execution_count": 11,
   "metadata": {},
   "outputs": [
    {
     "name": "stdout",
     "output_type": "stream",
     "text": [
      "shape: (3, 2)\n",
      "┌─────┬─────┐\n",
      "│ a   ┆ b   │\n",
      "│ --- ┆ --- │\n",
      "│ i64 ┆ i64 │\n",
      "╞═════╪═════╡\n",
      "│ 1   ┆ 10  │\n",
      "│ 2   ┆ 20  │\n",
      "│ 3   ┆ 30  │\n",
      "└─────┴─────┘\n",
      "shape: (3, 2)\n",
      "┌─────┬──────┐\n",
      "│ sum ┆ sum1 │\n",
      "│ --- ┆ ---  │\n",
      "│ i64 ┆ i64  │\n",
      "╞═════╪══════╡\n",
      "│ 11  ┆ 11   │\n",
      "│ 22  ┆ 22   │\n",
      "│ 33  ┆ 33   │\n",
      "└─────┴──────┘\n"
     ]
    }
   ],
   "source": [
    "df = pl.DataFrame(\n",
    "    {\n",
    "        \"a\": [1, 2, 3],\n",
    "        \"b\": [10, 20, 30],\n",
    "    }\n",
    ")\n",
    "print(df)\n",
    "\n",
    "out = df.select(\n",
    "    pl.fold(acc=pl.lit(0), function=lambda acc, x: acc + x, exprs=pl.col(\"*\")).alias(\"sum\"),\n",
    "    (pl.col('a') + pl.col('b')).alias('sum1')\n",
    ")\n",
    "print(out)"
   ]
  },
  {
   "cell_type": "markdown",
   "metadata": {},
   "source": [
    "Conditional\n",
    "In the case where you'd want to apply a condition/predicate on all columns in a DataFrame a fold operation can be a very concise way to express this."
   ]
  },
  {
   "cell_type": "code",
   "execution_count": 36,
   "metadata": {},
   "outputs": [
    {
     "name": "stdout",
     "output_type": "stream",
     "text": [
      "shape: (4, 2)\n",
      "┌─────┬─────┐\n",
      "│ a   ┆ b   │\n",
      "│ --- ┆ --- │\n",
      "│ i64 ┆ i64 │\n",
      "╞═════╪═════╡\n",
      "│ 1   ┆ 0   │\n",
      "│ 2   ┆ 1   │\n",
      "│ 3   ┆ 2   │\n",
      "│ 2   ┆ 0   │\n",
      "└─────┴─────┘\n",
      "shape: (3, 2)\n",
      "┌─────┬─────┐\n",
      "│ a   ┆ b   │\n",
      "│ --- ┆ --- │\n",
      "│ i64 ┆ i64 │\n",
      "╞═════╪═════╡\n",
      "│ 2   ┆ 1   │\n",
      "│ 3   ┆ 2   │\n",
      "│ 2   ┆ 0   │\n",
      "└─────┴─────┘\n",
      "shape: (1, 2)\n",
      "┌─────┬─────┐\n",
      "│ a   ┆ b   │\n",
      "│ --- ┆ --- │\n",
      "│ i64 ┆ i64 │\n",
      "╞═════╪═════╡\n",
      "│ 3   ┆ 2   │\n",
      "└─────┴─────┘\n"
     ]
    }
   ],
   "source": [
    "df = pl.DataFrame(\n",
    "    {\n",
    "        \"a\": [1, 2, 3,2],\n",
    "        \"b\": [0, 1, 2, 0],\n",
    "    }\n",
    ")\n",
    "\n",
    "print(df)\n",
    "\n",
    "print(\n",
    "        df.filter(\n",
    "            (pl.col('a') > 1 )\n",
    "            # & (pl.col('b') > 1)\n",
    "        )\n",
    "    \n",
    "    )\n",
    "\n",
    "out = df.filter(\n",
    "    pl.fold( # row wise\n",
    "        acc=pl.lit(True),\n",
    "        function=lambda acc, x: acc & x, # AND logic on columns per rows\n",
    "        exprs=pl.col(\"*\") > 1, # do this with all columns\n",
    "    )\n",
    ")\n",
    "print(out)"
   ]
  },
  {
   "cell_type": "code",
   "execution_count": 40,
   "metadata": {},
   "outputs": [
    {
     "name": "stdout",
     "output_type": "stream",
     "text": [
      "shape: (3, 1)\n",
      "┌─────┐\n",
      "│ a   │\n",
      "│ --- │\n",
      "│ str │\n",
      "╞═════╡\n",
      "│ a1  │\n",
      "│ b2  │\n",
      "│ c3  │\n",
      "└─────┘\n"
     ]
    }
   ],
   "source": [
    "# Concat columns in string\n",
    "df = pl.DataFrame(\n",
    "    {\n",
    "        \"a\": [\"a\", \"b\", \"c\"],\n",
    "        \"b\": [1,2,3],\n",
    "    }\n",
    ")\n",
    "\n",
    "out = df.select(\n",
    "    [\n",
    "        pl.concat_str([\"a\", \"b\"]),\n",
    "    ]\n",
    ")\n",
    "print(out)\n"
   ]
  }
 ],
 "metadata": {
  "kernelspec": {
   "display_name": "Python 3.11.2 64-bit",
   "language": "python",
   "name": "python3"
  },
  "language_info": {
   "codemirror_mode": {
    "name": "ipython",
    "version": 3
   },
   "file_extension": ".py",
   "mimetype": "text/x-python",
   "name": "python",
   "nbconvert_exporter": "python",
   "pygments_lexer": "ipython3",
   "version": "3.11.2"
  },
  "orig_nbformat": 4,
  "vscode": {
   "interpreter": {
    "hash": "9ffe86619b2ca0169f1eed88014f4302bf4b7ad26bf5f8918d983497e4918ec0"
   }
  }
 },
 "nbformat": 4,
 "nbformat_minor": 2
}
