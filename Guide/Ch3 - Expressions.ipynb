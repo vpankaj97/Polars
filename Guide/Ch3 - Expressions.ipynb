{
 "cells": [
  {
   "cell_type": "code",
   "execution_count": null,
   "metadata": {},
   "outputs": [],
   "source": [
    "%run setup.ipynb"
   ]
  },
  {
   "cell_type": "code",
   "execution_count": 8,
   "metadata": {},
   "outputs": [
    {
     "name": "stdout",
     "output_type": "stream",
     "text": [
      "shape: (1, 2)\n",
      "┌────────────────┬────────────────┐\n",
      "│ unique_names_1 ┆ unique_names_2 │\n",
      "│ ---            ┆ ---            │\n",
      "│ u32            ┆ u32            │\n",
      "╞════════════════╪════════════════╡\n",
      "│ 5              ┆ 5              │\n",
      "└────────────────┴────────────────┘\n"
     ]
    }
   ],
   "source": [
    "# Unique Values Count\n",
    "out = df.select(\n",
    "    [\n",
    "        pl.col(\"names\").n_unique().alias(\"unique_names_1\"),\n",
    "        pl.col(\"names\").unique().count().alias(\"unique_names_2\"),\n",
    "    ]\n",
    ")\n",
    "print(out)"
   ]
  },
  {
   "cell_type": "code",
   "execution_count": 9,
   "metadata": {},
   "outputs": [
    {
     "name": "stdout",
     "output_type": "stream",
     "text": [
      "shape: (1, 6)\n",
      "┌──────────┬──────────┬─────────┬───────────┬──────────┬──────────┐\n",
      "│ sum      ┆ min      ┆ max     ┆ other_max ┆ std dev  ┆ variance │\n",
      "│ ---      ┆ ---      ┆ ---     ┆ ---       ┆ ---      ┆ ---      │\n",
      "│ f64      ┆ f64      ┆ f64     ┆ f64       ┆ f64      ┆ f64      │\n",
      "╞══════════╪══════════╪═════════╪═══════════╪══════════╪══════════╡\n",
      "│ 1.705842 ┆ 0.014575 ┆ 0.74005 ┆ 0.74005   ┆ 0.293209 ┆ 0.085971 │\n",
      "└──────────┴──────────┴─────────┴───────────┴──────────┴──────────┘\n"
     ]
    }
   ],
   "source": [
    "#Functions\n",
    "out = df.select(\n",
    "    [\n",
    "        pl.sum(\"random\").alias(\"sum\"),\n",
    "        pl.min(\"random\").alias(\"min\"),\n",
    "        pl.max(\"random\").alias(\"max\"),\n",
    "        pl.col(\"random\").max().alias(\"other_max\"),\n",
    "        pl.std(\"random\").alias(\"std dev\"),\n",
    "        pl.var(\"random\").alias(\"variance\"),\n",
    "    ]\n",
    ")\n",
    "print(out)\n"
   ]
  },
  {
   "cell_type": "code",
   "execution_count": 16,
   "metadata": {},
   "outputs": [
    {
     "name": "stdout",
     "output_type": "stream",
     "text": [
      "shape: (2, 2)\n",
      "┌───────┬──────────────────┐\n",
      "│ names ┆ pattern_matching │\n",
      "│ ---   ┆ ---              │\n",
      "│ u32   ┆ str              │\n",
      "╞═══════╪══════════════════╡\n",
      "│ 2     ┆ ham              │\n",
      "│ 2     ┆ spam             │\n",
      "└───────┴──────────────────┘\n"
     ]
    }
   ],
   "source": [
    "out = df.select(\n",
    "    [\n",
    "        pl.col(\"names\").filter(pl.col(\"names\").str.contains(r\"am$\")).count(),\n",
    "        pl.col(\"names\").filter(pl.col(\"names\").str.contains(r\"am$\")).alias('pattern_matching')\n",
    "    ]\n",
    ")\n",
    "print(out)"
   ]
  },
  {
   "cell_type": "code",
   "execution_count": 24,
   "metadata": {},
   "outputs": [
    {
     "name": "stdout",
     "output_type": "stream",
     "text": [
      "shape: (5, 1)\n",
      "┌──────────┐\n",
      "│ x        │\n",
      "│ ---      │\n",
      "│ f64      │\n",
      "╞══════════╡\n",
      "│ 1.695791 │\n",
      "│ 0.0      │\n",
      "│ 2.896465 │\n",
      "│ 0.0      │\n",
      "│ 0.160325 │\n",
      "└──────────┘\n"
     ]
    }
   ],
   "source": [
    "#WHEN\n",
    "out = df.select(\n",
    "    [\n",
    "        (pl.when(pl.col(\"random\") > 0.5).then(0).otherwise(pl.col(\"random\")) * pl.sum(\"nrs\")).alias('x'),\n",
    "    ]\n",
    ")\n",
    "print(out)\n"
   ]
  },
  {
   "cell_type": "code",
   "execution_count": 4,
   "metadata": {},
   "outputs": [
    {
     "name": "stdout",
     "output_type": "stream",
     "text": [
      "shape: (5, 6)\n",
      "┌──────┬───────┬──────────┬────────┬────────────────────┬─────────────┐\n",
      "│ nrs  ┆ names ┆ random   ┆ groups ┆ sum[random]/groups ┆ random/name │\n",
      "│ ---  ┆ ---   ┆ ---      ┆ ---    ┆ ---                ┆ ---         │\n",
      "│ i64  ┆ str   ┆ f64      ┆ str    ┆ f64                ┆ list[f64]   │\n",
      "╞══════╪═══════╪══════════╪════════╪════════════════════╪═════════════╡\n",
      "│ 1    ┆ foo   ┆ 0.154163 ┆ A      ┆ 0.894213           ┆ [0.154163]  │\n",
      "│ 2    ┆ ham   ┆ 0.74005  ┆ A      ┆ 0.894213           ┆ [0.74005]   │\n",
      "│ 3    ┆ spam  ┆ 0.263315 ┆ B      ┆ 0.27789            ┆ [0.263315]  │\n",
      "│ null ┆ egg   ┆ 0.533739 ┆ C      ┆ 0.533739           ┆ [0.533739]  │\n",
      "│ 5    ┆ null  ┆ 0.014575 ┆ B      ┆ 0.27789            ┆ [0.014575]  │\n",
      "└──────┴───────┴──────────┴────────┴────────────────────┴─────────────┘\n"
     ]
    }
   ],
   "source": [
    "df = df.select(\n",
    "    [\n",
    "        pl.col(\"*\"),  # select all\n",
    "        pl.col(\"random\").sum().over(\"groups\").alias(\"sum[random]/groups\"),\n",
    "        pl.col(\"random\").list().over(\"names\").alias(\"random/name\"),\n",
    "    ]\n",
    ")\n",
    "print(df)"
   ]
  }
 ],
 "metadata": {
  "kernelspec": {
   "display_name": "Python 3.11.2 64-bit",
   "language": "python",
   "name": "python3"
  },
  "language_info": {
   "codemirror_mode": {
    "name": "ipython",
    "version": 3
   },
   "file_extension": ".py",
   "mimetype": "text/x-python",
   "name": "python",
   "nbconvert_exporter": "python",
   "pygments_lexer": "ipython3",
   "version": "3.11.2"
  },
  "orig_nbformat": 4,
  "vscode": {
   "interpreter": {
    "hash": "9ffe86619b2ca0169f1eed88014f4302bf4b7ad26bf5f8918d983497e4918ec0"
   }
  }
 },
 "nbformat": 4,
 "nbformat_minor": 2
}
