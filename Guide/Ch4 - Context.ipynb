{
 "cells": [
  {
   "cell_type": "code",
   "execution_count": 4,
   "metadata": {},
   "outputs": [],
   "source": [
    "%run \"Ch0 - setup.ipynb\""
   ]
  },
  {
   "cell_type": "code",
   "execution_count": 5,
   "metadata": {},
   "outputs": [
    {
     "name": "stdout",
     "output_type": "stream",
     "text": [
      "shape: (5, 4)\n",
      "┌─────┬───────┬────────────┬────────┐\n",
      "│ nrs ┆ names ┆ first name ┆ 10xnrs │\n",
      "│ --- ┆ ---   ┆ ---        ┆ ---    │\n",
      "│ i64 ┆ str   ┆ str        ┆ f64    │\n",
      "╞═════╪═══════╪════════════╪════════╡\n",
      "│ 11  ┆ null  ┆ foo        ┆ 27.5   │\n",
      "│ 11  ┆ egg   ┆ foo        ┆ 27.5   │\n",
      "│ 11  ┆ foo   ┆ foo        ┆ 27.5   │\n",
      "│ 11  ┆ ham   ┆ foo        ┆ 27.5   │\n",
      "│ 11  ┆ spam  ┆ foo        ┆ 27.5   │\n",
      "└─────┴───────┴────────────┴────────┘\n"
     ]
    }
   ],
   "source": [
    "out = df.select(\n",
    "    [\n",
    "        pl.sum(\"nrs\"),\n",
    "        pl.col(\"names\").sort(),\n",
    "        pl.col(\"names\").first().alias(\"first name\"),\n",
    "        (pl.mean(\"nrs\") * 10).alias(\"10xnrs\"),\n",
    "    ]\n",
    ")\n",
    "print(out)"
   ]
  },
  {
   "cell_type": "markdown",
   "metadata": {},
   "source": [
    "#### WITH_COLUMN"
   ]
  },
  {
   "cell_type": "code",
   "execution_count": 11,
   "metadata": {},
   "outputs": [
    {
     "name": "stdout",
     "output_type": "stream",
     "text": [
      "shape: (5, 6)\n",
      "┌──────┬───────┬──────────┬────────┬─────────┬───────┐\n",
      "│ nrs  ┆ names ┆ random   ┆ groups ┆ nrs_sum ┆ count │\n",
      "│ ---  ┆ ---   ┆ ---      ┆ ---    ┆ ---     ┆ ---   │\n",
      "│ i64  ┆ str   ┆ f64      ┆ str    ┆ i64     ┆ u32   │\n",
      "╞══════╪═══════╪══════════╪════════╪═════════╪═══════╡\n",
      "│ 1    ┆ foo   ┆ 0.154163 ┆ A      ┆ 11      ┆ 5     │\n",
      "│ 2    ┆ ham   ┆ 0.74005  ┆ A      ┆ 11      ┆ 5     │\n",
      "│ 3    ┆ spam  ┆ 0.263315 ┆ B      ┆ 11      ┆ 5     │\n",
      "│ null ┆ egg   ┆ 0.533739 ┆ C      ┆ 11      ┆ 5     │\n",
      "│ 5    ┆ null  ┆ 0.014575 ┆ B      ┆ 11      ┆ 5     │\n",
      "└──────┴───────┴──────────┴────────┴─────────┴───────┘\n"
     ]
    }
   ],
   "source": [
    "outdf = df.with_columns(\n",
    "    [\n",
    "        pl.sum(\"nrs\").alias(\"nrs_sum\"),\n",
    "        pl.col(\"random\").count().alias(\"count\"),\n",
    "    ]\n",
    ")\n",
    "print(outdf)"
   ]
  },
  {
   "cell_type": "markdown",
   "metadata": {},
   "source": [
    "##### Group BY"
   ]
  },
  {
   "cell_type": "code",
   "execution_count": 14,
   "metadata": {},
   "outputs": [
    {
     "name": "stdout",
     "output_type": "stream",
     "text": [
      "shape: (3, 5)\n",
      "┌────────┬──────┬──────────────┬────────────┬────────────────┐\n",
      "│ groups ┆ nrs  ┆ random_count ┆ random_sum ┆ reversed names │\n",
      "│ ---    ┆ ---  ┆ ---          ┆ ---        ┆ ---            │\n",
      "│ str    ┆ i64  ┆ u32          ┆ f64        ┆ list[str]      │\n",
      "╞════════╪══════╪══════════════╪════════════╪════════════════╡\n",
      "│ B      ┆ 8    ┆ 2            ┆ 0.263315   ┆ [null, \"spam\"] │\n",
      "│ A      ┆ 3    ┆ 2            ┆ 0.894213   ┆ [\"ham\", \"foo\"] │\n",
      "│ C      ┆ null ┆ 1            ┆ 0.533739   ┆ [\"egg\"]        │\n",
      "└────────┴──────┴──────────────┴────────────┴────────────────┘\n"
     ]
    }
   ],
   "source": [
    "out = df.groupby(\"groups\").agg(\n",
    "    [\n",
    "        pl.sum(\"nrs\"),  # sum nrs by groups\n",
    "        pl.col(\"random\").count().alias(\"random_count\"),  # count group members\n",
    "        # sum random where name != null\n",
    "        pl.col(\"random\").filter(pl.col(\"names\").is_not_null()).sum().suffix(\"_sum\"),\n",
    "        pl.col(\"names\").reverse().alias((\"reversed names\")),\n",
    "    ]\n",
    ")\n",
    "print(out)"
   ]
  }
 ],
 "metadata": {
  "kernelspec": {
   "display_name": "Python 3.11.2 64-bit",
   "language": "python",
   "name": "python3"
  },
  "language_info": {
   "codemirror_mode": {
    "name": "ipython",
    "version": 3
   },
   "file_extension": ".py",
   "mimetype": "text/x-python",
   "name": "python",
   "nbconvert_exporter": "python",
   "pygments_lexer": "ipython3",
   "version": "3.11.2"
  },
  "orig_nbformat": 4,
  "vscode": {
   "interpreter": {
    "hash": "9ffe86619b2ca0169f1eed88014f4302bf4b7ad26bf5f8918d983497e4918ec0"
   }
  }
 },
 "nbformat": 4,
 "nbformat_minor": 2
}
